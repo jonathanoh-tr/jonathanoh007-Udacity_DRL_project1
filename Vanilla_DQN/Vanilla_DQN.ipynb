{
 "cells": [
  {
   "cell_type": "markdown",
   "metadata": {},
   "source": [
    "# Navigation\n",
    "\n",
    "---\n",
    "\n",
    "In this notebook, you will learn how to use the Unity ML-Agents environment for the first project of the [Deep Reinforcement Learning Nanodegree](https://www.udacity.com/course/deep-reinforcement-learning-nanodegree--nd893).\n",
    "\n",
    "### 1. Start the Environment\n",
    "\n",
    "We begin by importing some necessary packages.  If the code cell below returns an error, please revisit the project instructions to double-check that you have installed [Unity ML-Agents](https://github.com/Unity-Technologies/ml-agents/blob/master/docs/Installation.md) and [NumPy](http://www.numpy.org/)."
   ]
  },
  {
   "cell_type": "code",
   "execution_count": 1,
   "metadata": {},
   "outputs": [],
   "source": [
    "from unityagents import UnityEnvironment\n",
    "import numpy as np\n",
    "import os, sys"
   ]
  },
  {
   "cell_type": "markdown",
   "metadata": {},
   "source": [
    "Next, we will start the environment!  **_Before running the code cell below_**, change the `file_name` parameter to match the location of the Unity environment that you downloaded.\n",
    "\n",
    "- **Mac**: `\"path/to/Banana.app\"`\n",
    "- **Windows** (x86): `\"path/to/Banana_Windows_x86/Banana.exe\"`\n",
    "- **Windows** (x86_64): `\"path/to/Banana_Windows_x86_64/Banana.exe\"`\n",
    "- **Linux** (x86): `\"path/to/Banana_Linux/Banana.x86\"`\n",
    "- **Linux** (x86_64): `\"path/to/Banana_Linux/Banana.x86_64\"`\n",
    "- **Linux** (x86, headless): `\"path/to/Banana_Linux_NoVis/Banana.x86\"`\n",
    "- **Linux** (x86_64, headless): `\"path/to/Banana_Linux_NoVis/Banana.x86_64\"`\n",
    "\n",
    "For instance, if you are using a Mac, then you downloaded `Banana.app`.  If this file is in the same folder as the notebook, then the line below should appear as follows:\n",
    "```\n",
    "env = UnityEnvironment(file_name=\"Banana.app\")\n",
    "```"
   ]
  },
  {
   "cell_type": "code",
   "execution_count": 2,
   "metadata": {},
   "outputs": [
    {
     "name": "stderr",
     "output_type": "stream",
     "text": [
      "INFO:unityagents:\n",
      "'Academy' started successfully!\n",
      "Unity Academy name: Academy\n",
      "        Number of Brains: 1\n",
      "        Number of External Brains : 1\n",
      "        Lesson number : 0\n",
      "        Reset Parameters :\n",
      "\t\t\n",
      "Unity brain name: BananaBrain\n",
      "        Number of Visual Observations (per agent): 0\n",
      "        Vector Observation space type: continuous\n",
      "        Vector Observation space size (per agent): 37\n",
      "        Number of stacked Vector Observation: 1\n",
      "        Vector Action space type: discrete\n",
      "        Vector Action space size (per agent): 4\n",
      "        Vector Action descriptions: , , , \n"
     ]
    }
   ],
   "source": [
    "env = UnityEnvironment(file_name=\"M:/notebooks/Jonathan/Udacity_Project1/p1_navigation/Banana_Windows_x86_64/Banana_Windows_x86_64/Banana.app\")"
   ]
  },
  {
   "cell_type": "markdown",
   "metadata": {},
   "source": [
    "Environments contain **_brains_** which are responsible for deciding the actions of their associated agents. Here we check for the first brain available, and set it as the default brain we will be controlling from Python."
   ]
  },
  {
   "cell_type": "code",
   "execution_count": 3,
   "metadata": {},
   "outputs": [],
   "source": [
    "# get the default brain\n",
    "brain_name = env.brain_names[0]\n",
    "brain = env.brains[brain_name]"
   ]
  },
  {
   "cell_type": "markdown",
   "metadata": {},
   "source": [
    "### 2. Examine the State and Action Spaces\n",
    "\n",
    "The simulation contains a single agent that navigates a large environment.  At each time step, it has four actions at its disposal:\n",
    "- `0` - walk forward \n",
    "- `1` - walk backward\n",
    "- `2` - turn left\n",
    "- `3` - turn right\n",
    "\n",
    "The state space has `37` dimensions and contains the agent's velocity, along with ray-based perception of objects around agent's forward direction.  A reward of `+1` is provided for collecting a yellow banana, and a reward of `-1` is provided for collecting a blue banana. \n",
    "\n",
    "Run the code cell below to print some information about the environment."
   ]
  },
  {
   "cell_type": "code",
   "execution_count": 4,
   "metadata": {},
   "outputs": [
    {
     "name": "stdout",
     "output_type": "stream",
     "text": [
      "Number of agents: 1\n",
      "Number of actions: 4\n",
      "States look like: [1.         0.         0.         0.         0.84408134 0.\n",
      " 0.         1.         0.         0.0748472  0.         1.\n",
      " 0.         0.         0.25755    1.         0.         0.\n",
      " 0.         0.74177343 0.         1.         0.         0.\n",
      " 0.25854847 0.         0.         1.         0.         0.09355672\n",
      " 0.         1.         0.         0.         0.31969345 0.\n",
      " 0.        ]\n",
      "States have length: 37\n"
     ]
    }
   ],
   "source": [
    "# reset the environment\n",
    "env_info = env.reset(train_mode=True)[brain_name]\n",
    "\n",
    "# number of agents in the environment\n",
    "print('Number of agents:', len(env_info.agents))\n",
    "\n",
    "# number of actions\n",
    "action_size = brain.vector_action_space_size\n",
    "print('Number of actions:', action_size)\n",
    "\n",
    "# examine the state space \n",
    "state = env_info.vector_observations[0]\n",
    "print('States look like:', state)\n",
    "state_size = len(state)\n",
    "print('States have length:', state_size)"
   ]
  },
  {
   "cell_type": "markdown",
   "metadata": {},
   "source": [
    "### 3. The vanilla Deep Q-network\n",
    "\n",
    "In the next code cell, we will load the network define in model.py.\n",
    "We will also load the agent in Agent_dqn.py.\n",
    "We then define and call the function dqn() that starts the training and marks the consecutive total rewards of each run.\n",
    "It also saves the last model that solved the environment. We finally plot the scores vs attempts."
   ]
  },
  {
   "cell_type": "markdown",
   "metadata": {},
   "source": [
    "#### The network used by the Vanilla Deep Q Agent is detailed in Vanilla_DQN/pytorch_model.py and is a simple forward pass 5 layer (128, 128, 128, 64, 64)\n"
   ]
  },
  {
   "cell_type": "code",
   "execution_count": 5,
   "metadata": {},
   "outputs": [
    {
     "name": "stdout",
     "output_type": "stream",
     "text": [
      "****************************\n",
      "Loading Vanilla Q Learning Agent\n",
      "****************************\n",
      "****************************\n",
      "Loading Vanilla Q Learning PyTorch Model\n",
      "****************************\n",
      "****************************\n",
      "Loading Vanilla Q Learning Memory\n",
      "****************************\n",
      "****************************\n",
      "Loading Vanilla Q Learning Util\n",
      "****************************\n",
      "****************************\n",
      "Loading Vanilla Q Learning Options\n",
      "****************************\n"
     ]
    }
   ],
   "source": [
    "from collections import deque\n",
    "import matplotlib.pyplot as plt\n",
    "%matplotlib inline\n",
    "import sys\n",
    "import os\n",
    "path=os.getcwd()\n",
    "import torch\n",
    "\n",
    "path_Vanilla_DQN=path\n",
    "sys.path.append(path_Vanilla_DQN)\n",
    "import torch\n",
    "import numpy as np\n",
    "\n",
    "\n",
    "from agent import Agent\n",
    "import util\n",
    "\n",
    "from options import options"
   ]
  },
  {
   "cell_type": "markdown",
   "metadata": {},
   "source": [
    "#### The hyper- parameters for the Agent are listed below"
   ]
  },
  {
   "cell_type": "code",
   "execution_count": 6,
   "metadata": {},
   "outputs": [
    {
     "name": "stdout",
     "output_type": "stream",
     "text": [
      "batch 64\n",
      "memory_size 1000000\n",
      "update_freq 32\n",
      "lr 0.0001\n",
      "discount_rate 0.9\n",
      "transfer_rate 0.001\n",
      "env Unity_Banana\n",
      "env_seed 0\n",
      "num_episodes 3000\n",
      "max_iteration 1000\n",
      "min_epsilon 0.1\n",
      "decay 0.995\n",
      "win_cond 13\n",
      "render True\n",
      "f C:\\Users\\jonathanoh\\AppData\\Roaming\\jupyter\\runtime\\kernel-078260b5-226d-4005-ae8d-03794d73134a.json\n"
     ]
    }
   ],
   "source": [
    "options = options()\n",
    "opts = options.parse()\n",
    "for arg in vars(opts):\n",
    "    print( arg, getattr(opts, arg))\n",
    "agent = Agent(state_size,action_size , opts=opts, seed=0)"
   ]
  },
  {
   "cell_type": "code",
   "execution_count": 7,
   "metadata": {},
   "outputs": [
    {
     "name": "stdout",
     "output_type": "stream",
     "text": [
      "Episode 0\tAverage Score: 0.00\n",
      "Episode 100\tAverage Score: 0.81\n",
      "Episode 200\tAverage Score: 4.95\n",
      "Episode 300\tAverage Score: 8.62\n",
      "Episode 400\tAverage Score: 10.43\n",
      "Episode 500\tAverage Score: 11.07\n",
      "Episode 600\tAverage Score: 11.91\n",
      "Episode 700\tAverage Score: 12.83\n",
      "Episode 756\tAverage Score: 13.06\n",
      "Environment solved in 756 episodes!\tAverage Score: 13.06\n"
     ]
    },
    {
     "data": {
      "image/png": "[encoded data removed]",
      "text/plain": [
       "<Figure size 432x288 with 1 Axes>"
      ]
     },
     "metadata": {
      "needs_background": "light"
     },
     "output_type": "display_data"
    }
   ],
   "source": [
    "\n",
    "def DQN(num_episodes = opts.num_episodes, max_iteration = opts.max_iteration, init_epsilon = 1.0, min_epsilon = opts.min_epsilon, decay = opts.decay):\n",
    "    '''\n",
    "    :param num_episodes:\n",
    "    :param max_iteration:\n",
    "    :param init_epsilon:\n",
    "    :param min_epsilon:\n",
    "    :param decay:\n",
    "    :return:\n",
    "    '''\n",
    "\n",
    "    total_reward = []\n",
    "    total_reward_window = deque(maxlen=100)\n",
    "    epsilon = init_epsilon\n",
    "\n",
    "    for i in range(num_episodes):\n",
    "        rewards = 0\n",
    "        env_info = env.reset(train_mode=True)[brain_name] # reset the environment\n",
    "        state = env_info.vector_observations[0]            # get the current state\n",
    " \n",
    "        for k in range(max_iteration):\n",
    "            action = (agent.act(state, epsilon)).astype(int)\n",
    "            env_info = env.step(action)[brain_name]\n",
    "            next_state = env_info.vector_observations[0]\n",
    "            reward = env_info.rewards[0] \n",
    "            done = env_info.local_done[0]\n",
    "            agent.step(state, action, reward, next_state, done)\n",
    "\n",
    "            state = next_state\n",
    "            rewards += reward\n",
    "\n",
    "            if done:\n",
    "                break\n",
    "\n",
    "        total_reward_window.append(rewards)\n",
    "        total_reward.append(rewards)\n",
    "\n",
    "        epsilon = max(min_epsilon, epsilon * decay)\n",
    "\n",
    "        print('\\rEpisode {}\\tAverage Score: {:.2f}'.format(i, np.mean(total_reward_window)), end=\"\")\n",
    "        if i % 100 == 0:\n",
    "            print('\\rEpisode {}\\tAverage Score: {:.2f}'.format(i, np.mean(total_reward_window)))\n",
    "\n",
    "        if np.mean(total_reward_window) >= opts.win_cond:\n",
    "            print('\\nEnvironment solved in {:d} episodes!\\tAverage Score: {:.2f}'.format(i ,\n",
    "                                                                                         np.mean(total_reward_window)))\n",
    "            torch.save(agent.local_model.state_dict(), path_Vanilla_DQN+'\\\\'+'checkpoint.pth')\n",
    "            break\n",
    "\n",
    "    torch.save(agent.local_model.state_dict(), path_Vanilla_DQN+'\\\\'+'checkpoint_end.pth')\n",
    "    return total_reward\n",
    "\n",
    "scores_vanilla_dqn = DQN()\n",
    "\n",
    "# plot the scores\n",
    "fig = plt.figure()\n",
    "ax = fig.add_subplot(111)\n",
    "plt.plot(np.arange(len(scores_vanilla_dqn)), scores_vanilla_dqn)\n",
    "plt.ylabel('Score')\n",
    "plt.xlabel('Episode #')\n",
    "plt.show()\n",
    "\n"
   ]
  },
  {
   "cell_type": "code",
   "execution_count": 8,
   "metadata": {},
   "outputs": [
    {
     "name": "stdout",
     "output_type": "stream",
     "text": [
      "Score: 12.0\n"
     ]
    }
   ],
   "source": [
    "if opts.render == True:\n",
    "    agent.local_model.load_state_dict(torch.load(path_Vanilla_DQN+'\\\\'+'checkpoint_end.pth'))\n",
    "    util.render_text_envq(env, agent, brain_name)\n",
    "\n"
   ]
  },
  {
   "cell_type": "code",
   "execution_count": 9,
   "metadata": {},
   "outputs": [],
   "source": [
    "import pickle\n",
    "PIK = \"scores_vanilla_dqn.dat\"\n",
    "\n",
    "data = scores_vanilla_dqn\n",
    "with open(PIK, \"wb\") as f:\n",
    "    pickle.dump(data, f)\n",
    "with open(PIK, \"rb\") as f:\n",
    "    data= pickle.load(f)\n",
    "    "
   ]
  },
  {
   "cell_type": "code",
   "execution_count": 7,
   "metadata": {},
   "outputs": [],
   "source": [
    "#env.close()"
   ]
  },
  {
   "cell_type": "code",
   "execution_count": null,
   "metadata": {},
   "outputs": [],
   "source": []
  }
 ],
 "metadata": {
  "kernelspec": {
   "display_name": "drlnd",
   "language": "python",
   "name": "drlnd"
  },
  "language_info": {
   "codemirror_mode": {
    "name": "ipython",
    "version": 3
   },
   "file_extension": ".py",
   "mimetype": "text/x-python",
   "name": "python",
   "nbconvert_exporter": "python",
   "pygments_lexer": "ipython3",
   "version": "3.6.8"
  }
 },
 "nbformat": 4,
 "nbformat_minor": 2
}
